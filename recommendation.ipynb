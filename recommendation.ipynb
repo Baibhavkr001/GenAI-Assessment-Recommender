{
 "cells": [
  {
   "cell_type": "code",
   "execution_count": 1,
   "id": "21bb1afc-9203-4202-89be-18c07f17f856",
   "metadata": {},
   "outputs": [
    {
     "name": "stdout",
     "output_type": "stream",
     "text": [
      "Requirement already satisfied: pandas in c:\\users\\lenovo\\appdata\\local\\programs\\python\\python312\\lib\\site-packages (2.2.2)\n",
      "Requirement already satisfied: numpy in c:\\users\\lenovo\\appdata\\local\\programs\\python\\python312\\lib\\site-packages (1.26.4)\n",
      "Requirement already satisfied: scikit-learn in c:\\users\\lenovo\\appdata\\local\\programs\\python\\python312\\lib\\site-packages (1.4.2)\n",
      "Requirement already satisfied: python-dateutil>=2.8.2 in c:\\users\\lenovo\\appdata\\local\\programs\\python\\python312\\lib\\site-packages (from pandas) (2.9.0.post0)\n",
      "Requirement already satisfied: pytz>=2020.1 in c:\\users\\lenovo\\appdata\\local\\programs\\python\\python312\\lib\\site-packages (from pandas) (2024.1)\n",
      "Requirement already satisfied: tzdata>=2022.7 in c:\\users\\lenovo\\appdata\\local\\programs\\python\\python312\\lib\\site-packages (from pandas) (2024.1)\n",
      "Requirement already satisfied: scipy>=1.6.0 in c:\\users\\lenovo\\appdata\\local\\programs\\python\\python312\\lib\\site-packages (from scikit-learn) (1.13.0)\n",
      "Requirement already satisfied: joblib>=1.2.0 in c:\\users\\lenovo\\appdata\\local\\programs\\python\\python312\\lib\\site-packages (from scikit-learn) (1.4.0)\n",
      "Requirement already satisfied: threadpoolctl>=2.0.0 in c:\\users\\lenovo\\appdata\\local\\programs\\python\\python312\\lib\\site-packages (from scikit-learn) (3.4.0)\n",
      "Requirement already satisfied: six>=1.5 in c:\\users\\lenovo\\appdata\\local\\programs\\python\\python312\\lib\\site-packages (from python-dateutil>=2.8.2->pandas) (1.16.0)\n",
      "Note: you may need to restart the kernel to use updated packages.\n"
     ]
    },
    {
     "name": "stderr",
     "output_type": "stream",
     "text": [
      "\n",
      "[notice] A new release of pip is available: 24.3.1 -> 25.0.1\n",
      "[notice] To update, run: python.exe -m pip install --upgrade pip\n"
     ]
    }
   ],
   "source": [
    "pip install pandas numpy scikit-learn"
   ]
  },
  {
   "cell_type": "code",
   "execution_count": 3,
   "id": "dc593fa0-b753-4055-bf11-06a60ffdfad3",
   "metadata": {},
   "outputs": [
    {
     "name": "stdout",
     "output_type": "stream",
     "text": [
      "   Assessment_ID    Assessment_Name   Category Difficulty  \\\n",
      "0              1      Python Basics     Coding       Easy   \n",
      "1              2    Data Structures     Coding     Medium   \n",
      "2              3   Machine Learning     Coding       Hard   \n",
      "3              4  Logical Reasoning  Reasoning     Medium   \n",
      "4              5     Verbal Ability   Language       Easy   \n",
      "5              6   Advanced Grammar   Language       Hard   \n",
      "\n",
      "                                         Description  \n",
      "0  Introduction to programming in Python, variabl...  \n",
      "1  Covers arrays, stacks, queues, linked lists, a...  \n",
      "2  Concepts of supervised and unsupervised learni...  \n",
      "3  Analytical thinking and logical pattern-based ...  \n",
      "4  Grammar, vocabulary, comprehension, and senten...  \n",
      "5  Advanced coding practices and problem-solving ...  \n"
     ]
    }
   ],
   "source": [
    "\n",
    "import pandas as pd\n",
    "\n",
    "\n",
    "data = pd.read_csv(\"assessments.csv\")\n",
    "\n",
    "\n",
    "descriptions = [\n",
    "    \"Introduction to programming in Python, variables, loops, and functions.\",\n",
    "    \"Covers arrays, stacks, queues, linked lists, and trees.\",\n",
    "    \"Concepts of supervised and unsupervised learning, algorithms like regression, SVM, etc.\",\n",
    "    \"Analytical thinking and logical pattern-based questions.\",\n",
    "    \"Grammar, vocabulary, comprehension, and sentence formation.\",\n",
    "    \"Advanced coding practices and problem-solving techniques.\"  # <-- 6th one (dummy if unknown)\n",
    "]\n",
    "\n",
    "\n",
    "data[\"Description\"] = descriptions\n",
    "\n",
    "\n",
    "data.to_csv(\"assessments_with_descriptions.csv\", index=False)\n",
    "\n",
    "\n",
    "print(data)\n"
   ]
  },
  {
   "cell_type": "code",
   "execution_count": 6,
   "id": "53c49ba0-e753-45b6-98f1-adf096aedc3c",
   "metadata": {},
   "outputs": [],
   "source": [
    "from sklearn.feature_extraction.text import TfidfVectorizer\n",
    "from sklearn.metrics.pairwise import cosine_similarity\n"
   ]
  },
  {
   "cell_type": "code",
   "execution_count": 7,
   "id": "753b79c5-a23c-4b00-8add-a48d6553e068",
   "metadata": {},
   "outputs": [
    {
     "name": "stdout",
     "output_type": "stream",
     "text": [
      "🔹 Recommended Assessments: ['Data Structures', 'Machine Learning', 'Verbal Ability']\n"
     ]
    }
   ],
   "source": [
    "\n",
    "data[\"Features\"] = data[\"Assessment_Name\"] + \" \" + data[\"Category\"] + \" \" + data[\"Category\"] + \" \" + data[\"Difficulty\"]\n",
    "\n",
    "\n",
    "vectorizer = TfidfVectorizer()\n",
    "feature_matrix = vectorizer.fit_transform(data[\"Features\"])\n",
    "\n",
    "\n",
    "similarity_matrix = cosine_similarity(feature_matrix)\n",
    "\n",
    "\n",
    "def recommend_assessment(assessment_name, data, similarity_matrix, include_self=False):\n",
    "    index = data[data[\"Assessment_Name\"] == assessment_name].index[0]\n",
    "    scores = list(enumerate(similarity_matrix[index]))\n",
    "\n",
    "    \n",
    "    scores = sorted(scores, key=lambda x: x[1], reverse=True)\n",
    "\n",
    "    \n",
    "    if not include_self:\n",
    "        scores = scores[1:4]  \n",
    "    else:\n",
    "        scores = scores[:3]  \n",
    "\n",
    "    \n",
    "    recommendations = [data.iloc[i[0]][\"Assessment_Name\"] for i in scores]\n",
    "    return recommendations\n",
    "\n",
    "\n",
    "recommendations = recommend_assessment(\"Python Basics\", data, similarity_matrix)\n",
    "print(\"🔹 Recommended Assessments:\", recommendations)\n"
   ]
  },
  {
   "cell_type": "code",
   "execution_count": null,
   "id": "7bac21e7-d7ba-4a9e-bf66-ec89cfce333e",
   "metadata": {},
   "outputs": [],
   "source": []
  }
 ],
 "metadata": {
  "kernelspec": {
   "display_name": "Python 3 (ipykernel)",
   "language": "python",
   "name": "python3"
  },
  "language_info": {
   "codemirror_mode": {
    "name": "ipython",
    "version": 3
   },
   "file_extension": ".py",
   "mimetype": "text/x-python",
   "name": "python",
   "nbconvert_exporter": "python",
   "pygments_lexer": "ipython3",
   "version": "3.12.3"
  }
 },
 "nbformat": 4,
 "nbformat_minor": 5
}
